{
 "cells": [
  {
   "cell_type": "code",
   "execution_count": 1,
   "metadata": {
    "scrolled": false
   },
   "outputs": [
    {
     "name": "stderr",
     "output_type": "stream",
     "text": [
      "<ipython-input-1-112f35d21d64>:34: DeprecationWarning: insert is deprecated. Use insert_one or insert_many instead.\n",
      "  x = mycol.insert(astro_dict)\n"
     ]
    },
    {
     "ename": "DuplicateKeyError",
     "evalue": "E11000 duplicate key error collection: NougatBD2.astro2 index: _id_ dup key: { _id: \"1\" }, full error: {'index': 0, 'code': 11000, 'keyPattern': {'_id': 1}, 'keyValue': {'_id': '1'}, 'errmsg': 'E11000 duplicate key error collection: NougatBD2.astro2 index: _id_ dup key: { _id: \"1\" }', 'op': {'_id': '1', 'PostTypeId': 1, 'AcceptedAnswerId': '879', 'question': 'Suppose I would like to calculate the inclination of a satellite from the __ecliptic__. Would it be possible to do this with an amateur telescope? How would I go about doing so?\\n\\n---\\n\\nNote: A good answer should tell what kind of telescope an amateur would need, what measurements they would need to make, then what calculations they would have to perform to get the inclination (or the \"instantaneous angular measurement from the ecliptic at the time of measurement\").'}}",
     "output_type": "error",
     "traceback": [
      "\u001b[0;31m---------------------------------------------------------------------------\u001b[0m",
      "\u001b[0;31mBulkWriteError\u001b[0m                            Traceback (most recent call last)",
      "\u001b[0;32m~/anaconda3/envs/machinelearning/lib/python3.8/site-packages/pymongo/collection.py\u001b[0m in \u001b[0;36m_insert\u001b[0;34m(self, docs, ordered, check_keys, manipulate, write_concern, op_id, bypass_doc_val, session)\u001b[0m\n\u001b[1;32m    648\u001b[0m         \u001b[0;32mtry\u001b[0m\u001b[0;34m:\u001b[0m\u001b[0;34m\u001b[0m\u001b[0;34m\u001b[0m\u001b[0m\n\u001b[0;32m--> 649\u001b[0;31m             \u001b[0mblk\u001b[0m\u001b[0;34m.\u001b[0m\u001b[0mexecute\u001b[0m\u001b[0;34m(\u001b[0m\u001b[0mwrite_concern\u001b[0m\u001b[0;34m,\u001b[0m \u001b[0msession\u001b[0m\u001b[0;34m=\u001b[0m\u001b[0msession\u001b[0m\u001b[0;34m)\u001b[0m\u001b[0;34m\u001b[0m\u001b[0;34m\u001b[0m\u001b[0m\n\u001b[0m\u001b[1;32m    650\u001b[0m         \u001b[0;32mexcept\u001b[0m \u001b[0mBulkWriteError\u001b[0m \u001b[0;32mas\u001b[0m \u001b[0mbwe\u001b[0m\u001b[0;34m:\u001b[0m\u001b[0;34m\u001b[0m\u001b[0;34m\u001b[0m\u001b[0m\n",
      "\u001b[0;32m~/anaconda3/envs/machinelearning/lib/python3.8/site-packages/pymongo/bulk.py\u001b[0m in \u001b[0;36mexecute\u001b[0;34m(self, write_concern, session)\u001b[0m\n\u001b[1;32m    527\u001b[0m         \u001b[0;32melse\u001b[0m\u001b[0;34m:\u001b[0m\u001b[0;34m\u001b[0m\u001b[0;34m\u001b[0m\u001b[0m\n\u001b[0;32m--> 528\u001b[0;31m             \u001b[0;32mreturn\u001b[0m \u001b[0mself\u001b[0m\u001b[0;34m.\u001b[0m\u001b[0mexecute_command\u001b[0m\u001b[0;34m(\u001b[0m\u001b[0mgenerator\u001b[0m\u001b[0;34m,\u001b[0m \u001b[0mwrite_concern\u001b[0m\u001b[0;34m,\u001b[0m \u001b[0msession\u001b[0m\u001b[0;34m)\u001b[0m\u001b[0;34m\u001b[0m\u001b[0;34m\u001b[0m\u001b[0m\n\u001b[0m\u001b[1;32m    529\u001b[0m \u001b[0;34m\u001b[0m\u001b[0m\n",
      "\u001b[0;32m~/anaconda3/envs/machinelearning/lib/python3.8/site-packages/pymongo/bulk.py\u001b[0m in \u001b[0;36mexecute_command\u001b[0;34m(self, generator, write_concern, session)\u001b[0m\n\u001b[1;32m    362\u001b[0m         \u001b[0;32mif\u001b[0m \u001b[0mfull_result\u001b[0m\u001b[0;34m[\u001b[0m\u001b[0;34m\"writeErrors\"\u001b[0m\u001b[0;34m]\u001b[0m \u001b[0;32mor\u001b[0m \u001b[0mfull_result\u001b[0m\u001b[0;34m[\u001b[0m\u001b[0;34m\"writeConcernErrors\"\u001b[0m\u001b[0;34m]\u001b[0m\u001b[0;34m:\u001b[0m\u001b[0;34m\u001b[0m\u001b[0;34m\u001b[0m\u001b[0m\n\u001b[0;32m--> 363\u001b[0;31m             \u001b[0m_raise_bulk_write_error\u001b[0m\u001b[0;34m(\u001b[0m\u001b[0mfull_result\u001b[0m\u001b[0;34m)\u001b[0m\u001b[0;34m\u001b[0m\u001b[0;34m\u001b[0m\u001b[0m\n\u001b[0m\u001b[1;32m    364\u001b[0m         \u001b[0;32mreturn\u001b[0m \u001b[0mfull_result\u001b[0m\u001b[0;34m\u001b[0m\u001b[0;34m\u001b[0m\u001b[0m\n",
      "\u001b[0;32m~/anaconda3/envs/machinelearning/lib/python3.8/site-packages/pymongo/bulk.py\u001b[0m in \u001b[0;36m_raise_bulk_write_error\u001b[0;34m(full_result)\u001b[0m\n\u001b[1;32m    139\u001b[0m             key=lambda error: error[\"index\"])\n\u001b[0;32m--> 140\u001b[0;31m     \u001b[0;32mraise\u001b[0m \u001b[0mBulkWriteError\u001b[0m\u001b[0;34m(\u001b[0m\u001b[0mfull_result\u001b[0m\u001b[0;34m)\u001b[0m\u001b[0;34m\u001b[0m\u001b[0;34m\u001b[0m\u001b[0m\n\u001b[0m\u001b[1;32m    141\u001b[0m \u001b[0;34m\u001b[0m\u001b[0m\n",
      "\u001b[0;31mBulkWriteError\u001b[0m: batch op errors occurred, full error: {'writeErrors': [{'index': 0, 'code': 11000, 'keyPattern': {'_id': 1}, 'keyValue': {'_id': '1'}, 'errmsg': 'E11000 duplicate key error collection: NougatBD2.astro2 index: _id_ dup key: { _id: \"1\" }', 'op': {'_id': '1', 'PostTypeId': 1, 'AcceptedAnswerId': '879', 'question': 'Suppose I would like to calculate the inclination of a satellite from the __ecliptic__. Would it be possible to do this with an amateur telescope? How would I go about doing so?\\n\\n---\\n\\nNote: A good answer should tell what kind of telescope an amateur would need, what measurements they would need to make, then what calculations they would have to perform to get the inclination (or the \"instantaneous angular measurement from the ecliptic at the time of measurement\").'}}], 'writeConcernErrors': [], 'nInserted': 0, 'nUpserted': 0, 'nMatched': 0, 'nModified': 0, 'nRemoved': 0, 'upserted': []}",
      "\nDuring handling of the above exception, another exception occurred:\n",
      "\u001b[0;31mDuplicateKeyError\u001b[0m                         Traceback (most recent call last)",
      "\u001b[0;32m<ipython-input-1-112f35d21d64>\u001b[0m in \u001b[0;36m<module>\u001b[0;34m\u001b[0m\n\u001b[1;32m     32\u001b[0m         \u001b[0mliste_des_reponsesId\u001b[0m\u001b[0;34m.\u001b[0m\u001b[0mappend\u001b[0m\u001b[0;34m(\u001b[0m\u001b[0mrep_id\u001b[0m\u001b[0;34m)\u001b[0m\u001b[0;34m\u001b[0m\u001b[0;34m\u001b[0m\u001b[0m\n\u001b[1;32m     33\u001b[0m         \u001b[0mastro_dict\u001b[0m \u001b[0;34m=\u001b[0m \u001b[0;34m[\u001b[0m\u001b[0;34m{\u001b[0m\u001b[0;34m'_id'\u001b[0m\u001b[0;34m:\u001b[0m\u001b[0mchild\u001b[0m\u001b[0;34m.\u001b[0m\u001b[0mattrib\u001b[0m\u001b[0;34m[\u001b[0m\u001b[0;34m'Id'\u001b[0m\u001b[0;34m]\u001b[0m\u001b[0;34m,\u001b[0m \u001b[0;34m'PostTypeId'\u001b[0m\u001b[0;34m:\u001b[0m\u001b[0;36m1\u001b[0m\u001b[0;34m,\u001b[0m \u001b[0;34m'AcceptedAnswerId'\u001b[0m\u001b[0;34m:\u001b[0m\u001b[0mrep_id\u001b[0m\u001b[0;34m,\u001b[0m \u001b[0;34m'question'\u001b[0m\u001b[0;34m:\u001b[0m\u001b[0mquestion\u001b[0m\u001b[0;34m}\u001b[0m\u001b[0;34m]\u001b[0m\u001b[0;34m\u001b[0m\u001b[0;34m\u001b[0m\u001b[0m\n\u001b[0;32m---> 34\u001b[0;31m         \u001b[0mx\u001b[0m \u001b[0;34m=\u001b[0m \u001b[0mmycol\u001b[0m\u001b[0;34m.\u001b[0m\u001b[0minsert\u001b[0m\u001b[0;34m(\u001b[0m\u001b[0mastro_dict\u001b[0m\u001b[0;34m)\u001b[0m\u001b[0;34m\u001b[0m\u001b[0;34m\u001b[0m\u001b[0m\n\u001b[0m\u001b[1;32m     35\u001b[0m \u001b[0;34m\u001b[0m\u001b[0m\n\u001b[1;32m     36\u001b[0m \u001b[0;32mfor\u001b[0m \u001b[0mindex\u001b[0m \u001b[0;32min\u001b[0m \u001b[0mliste_des_reponsesId\u001b[0m \u001b[0;34m:\u001b[0m\u001b[0;34m\u001b[0m\u001b[0;34m\u001b[0m\u001b[0m\n",
      "\u001b[0;32m~/anaconda3/envs/machinelearning/lib/python3.8/site-packages/pymongo/collection.py\u001b[0m in \u001b[0;36minsert\u001b[0;34m(self, doc_or_docs, manipulate, check_keys, continue_on_error, **kwargs)\u001b[0m\n\u001b[1;32m   3291\u001b[0m         \u001b[0;32mif\u001b[0m \u001b[0mkwargs\u001b[0m\u001b[0;34m:\u001b[0m\u001b[0;34m\u001b[0m\u001b[0;34m\u001b[0m\u001b[0m\n\u001b[1;32m   3292\u001b[0m             \u001b[0mwrite_concern\u001b[0m \u001b[0;34m=\u001b[0m \u001b[0mWriteConcern\u001b[0m\u001b[0;34m(\u001b[0m\u001b[0;34m**\u001b[0m\u001b[0mkwargs\u001b[0m\u001b[0;34m)\u001b[0m\u001b[0;34m\u001b[0m\u001b[0;34m\u001b[0m\u001b[0m\n\u001b[0;32m-> 3293\u001b[0;31m         return self._insert(doc_or_docs, not continue_on_error,\n\u001b[0m\u001b[1;32m   3294\u001b[0m                             check_keys, manipulate, write_concern)\n\u001b[1;32m   3295\u001b[0m \u001b[0;34m\u001b[0m\u001b[0m\n",
      "\u001b[0;32m~/anaconda3/envs/machinelearning/lib/python3.8/site-packages/pymongo/collection.py\u001b[0m in \u001b[0;36m_insert\u001b[0;34m(self, docs, ordered, check_keys, manipulate, write_concern, op_id, bypass_doc_val, session)\u001b[0m\n\u001b[1;32m    649\u001b[0m             \u001b[0mblk\u001b[0m\u001b[0;34m.\u001b[0m\u001b[0mexecute\u001b[0m\u001b[0;34m(\u001b[0m\u001b[0mwrite_concern\u001b[0m\u001b[0;34m,\u001b[0m \u001b[0msession\u001b[0m\u001b[0;34m=\u001b[0m\u001b[0msession\u001b[0m\u001b[0;34m)\u001b[0m\u001b[0;34m\u001b[0m\u001b[0;34m\u001b[0m\u001b[0m\n\u001b[1;32m    650\u001b[0m         \u001b[0;32mexcept\u001b[0m \u001b[0mBulkWriteError\u001b[0m \u001b[0;32mas\u001b[0m \u001b[0mbwe\u001b[0m\u001b[0;34m:\u001b[0m\u001b[0;34m\u001b[0m\u001b[0;34m\u001b[0m\u001b[0m\n\u001b[0;32m--> 651\u001b[0;31m             \u001b[0m_raise_last_error\u001b[0m\u001b[0;34m(\u001b[0m\u001b[0mbwe\u001b[0m\u001b[0;34m.\u001b[0m\u001b[0mdetails\u001b[0m\u001b[0;34m)\u001b[0m\u001b[0;34m\u001b[0m\u001b[0;34m\u001b[0m\u001b[0m\n\u001b[0m\u001b[1;32m    652\u001b[0m         \u001b[0;32mreturn\u001b[0m \u001b[0mids\u001b[0m\u001b[0;34m\u001b[0m\u001b[0;34m\u001b[0m\u001b[0m\n\u001b[1;32m    653\u001b[0m \u001b[0;34m\u001b[0m\u001b[0m\n",
      "\u001b[0;32m~/anaconda3/envs/machinelearning/lib/python3.8/site-packages/pymongo/helpers.py\u001b[0m in \u001b[0;36m_raise_last_error\u001b[0;34m(bulk_write_result)\u001b[0m\n\u001b[1;32m    240\u001b[0m     \u001b[0mwrite_errors\u001b[0m \u001b[0;34m=\u001b[0m \u001b[0mbulk_write_result\u001b[0m\u001b[0;34m.\u001b[0m\u001b[0mget\u001b[0m\u001b[0;34m(\u001b[0m\u001b[0;34m\"writeErrors\"\u001b[0m\u001b[0;34m)\u001b[0m\u001b[0;34m\u001b[0m\u001b[0;34m\u001b[0m\u001b[0m\n\u001b[1;32m    241\u001b[0m     \u001b[0;32mif\u001b[0m \u001b[0mwrite_errors\u001b[0m\u001b[0;34m:\u001b[0m\u001b[0;34m\u001b[0m\u001b[0;34m\u001b[0m\u001b[0m\n\u001b[0;32m--> 242\u001b[0;31m         \u001b[0m_raise_last_write_error\u001b[0m\u001b[0;34m(\u001b[0m\u001b[0mwrite_errors\u001b[0m\u001b[0;34m)\u001b[0m\u001b[0;34m\u001b[0m\u001b[0;34m\u001b[0m\u001b[0m\n\u001b[0m\u001b[1;32m    243\u001b[0m \u001b[0;34m\u001b[0m\u001b[0m\n\u001b[1;32m    244\u001b[0m     \u001b[0m_raise_write_concern_error\u001b[0m\u001b[0;34m(\u001b[0m\u001b[0mbulk_write_result\u001b[0m\u001b[0;34m[\u001b[0m\u001b[0;34m\"writeConcernErrors\"\u001b[0m\u001b[0;34m]\u001b[0m\u001b[0;34m[\u001b[0m\u001b[0;34m-\u001b[0m\u001b[0;36m1\u001b[0m\u001b[0;34m]\u001b[0m\u001b[0;34m)\u001b[0m\u001b[0;34m\u001b[0m\u001b[0;34m\u001b[0m\u001b[0m\n",
      "\u001b[0;32m~/anaconda3/envs/machinelearning/lib/python3.8/site-packages/pymongo/helpers.py\u001b[0m in \u001b[0;36m_raise_last_write_error\u001b[0;34m(write_errors)\u001b[0m\n\u001b[1;32m    205\u001b[0m     \u001b[0merror\u001b[0m \u001b[0;34m=\u001b[0m \u001b[0mwrite_errors\u001b[0m\u001b[0;34m[\u001b[0m\u001b[0;34m-\u001b[0m\u001b[0;36m1\u001b[0m\u001b[0;34m]\u001b[0m\u001b[0;34m\u001b[0m\u001b[0;34m\u001b[0m\u001b[0m\n\u001b[1;32m    206\u001b[0m     \u001b[0;32mif\u001b[0m \u001b[0merror\u001b[0m\u001b[0;34m.\u001b[0m\u001b[0mget\u001b[0m\u001b[0;34m(\u001b[0m\u001b[0;34m\"code\"\u001b[0m\u001b[0;34m)\u001b[0m \u001b[0;34m==\u001b[0m \u001b[0;36m11000\u001b[0m\u001b[0;34m:\u001b[0m\u001b[0;34m\u001b[0m\u001b[0;34m\u001b[0m\u001b[0m\n\u001b[0;32m--> 207\u001b[0;31m         \u001b[0;32mraise\u001b[0m \u001b[0mDuplicateKeyError\u001b[0m\u001b[0;34m(\u001b[0m\u001b[0merror\u001b[0m\u001b[0;34m.\u001b[0m\u001b[0mget\u001b[0m\u001b[0;34m(\u001b[0m\u001b[0;34m\"errmsg\"\u001b[0m\u001b[0;34m)\u001b[0m\u001b[0;34m,\u001b[0m \u001b[0;36m11000\u001b[0m\u001b[0;34m,\u001b[0m \u001b[0merror\u001b[0m\u001b[0;34m)\u001b[0m\u001b[0;34m\u001b[0m\u001b[0;34m\u001b[0m\u001b[0m\n\u001b[0m\u001b[1;32m    208\u001b[0m     \u001b[0;32mraise\u001b[0m \u001b[0mWriteError\u001b[0m\u001b[0;34m(\u001b[0m\u001b[0merror\u001b[0m\u001b[0;34m.\u001b[0m\u001b[0mget\u001b[0m\u001b[0;34m(\u001b[0m\u001b[0;34m\"errmsg\"\u001b[0m\u001b[0;34m)\u001b[0m\u001b[0;34m,\u001b[0m \u001b[0merror\u001b[0m\u001b[0;34m.\u001b[0m\u001b[0mget\u001b[0m\u001b[0;34m(\u001b[0m\u001b[0;34m\"code\"\u001b[0m\u001b[0;34m)\u001b[0m\u001b[0;34m,\u001b[0m \u001b[0merror\u001b[0m\u001b[0;34m)\u001b[0m\u001b[0;34m\u001b[0m\u001b[0;34m\u001b[0m\u001b[0m\n\u001b[1;32m    209\u001b[0m \u001b[0;34m\u001b[0m\u001b[0m\n",
      "\u001b[0;31mDuplicateKeyError\u001b[0m: E11000 duplicate key error collection: NougatBD2.astro2 index: _id_ dup key: { _id: \"1\" }, full error: {'index': 0, 'code': 11000, 'keyPattern': {'_id': 1}, 'keyValue': {'_id': '1'}, 'errmsg': 'E11000 duplicate key error collection: NougatBD2.astro2 index: _id_ dup key: { _id: \"1\" }', 'op': {'_id': '1', 'PostTypeId': 1, 'AcceptedAnswerId': '879', 'question': 'Suppose I would like to calculate the inclination of a satellite from the __ecliptic__. Would it be possible to do this with an amateur telescope? How would I go about doing so?\\n\\n---\\n\\nNote: A good answer should tell what kind of telescope an amateur would need, what measurements they would need to make, then what calculations they would have to perform to get the inclination (or the \"instantaneous angular measurement from the ecliptic at the time of measurement\").'}}"
     ]
    }
   ],
   "source": [
    "# extraction des données\n",
    "import xml.etree.ElementTree as ET\n",
    "import pymongo\n",
    "import html2markdown\n",
    "\n",
    "from lxml import etree\n",
    "from collections import defaultdict\n",
    "\n",
    "tree = ET.parse(\"astronomy/Posts.xml\")\n",
    "root = tree.getroot()\n",
    "\n",
    "liste_des_reponsesId=[]\n",
    "client = pymongo.MongoClient(\"mongodb://localhost:27017/\")\n",
    "mydb = client[\"NougatBD2\"]\n",
    "mycol = mydb[\"astro2\"]\n",
    "\n",
    "\n",
    "import time\n",
    "start_time = time.time()\n",
    "\n",
    "for child in root:\n",
    "    type_id = child.attrib['PostTypeId']\n",
    "    \n",
    "    try:\n",
    "        rep_id = child.attrib['AcceptedAnswerId']\n",
    "    except:\n",
    "        rep_id = 0\n",
    "    \n",
    "    if (type_id=='1' and rep_id !=0) : \n",
    "        quest = child.attrib['Body']\n",
    "        question = html2markdown.convert(quest) \n",
    "        liste_des_reponsesId.append(rep_id)\n",
    "        astro_dict = [{'_id':child.attrib['Id'], 'PostTypeId':1, 'AcceptedAnswerId':rep_id, 'question':question}]\n",
    "        x = mycol.insert(astro_dict)\n",
    "\n",
    "for index in liste_des_reponsesId : \n",
    "    found = False\n",
    "    for child in root:\n",
    "        if index == child.attrib['Id'] :\n",
    "            rep = child.attrib['Body']\n",
    "            reponse = html2markdown.convert(rep)\n",
    "            astro_dict = [{'_id':index , 'PostTypeId':2,  'response':reponse}]\n",
    "            x = mycol.insert(astro_dict)\n",
    "            found = True\n",
    "        if found : break\n",
    "    \n",
    "end_time = time.time()\n",
    "print(end_time - start_time)\n"
   ]
  },
  {
   "cell_type": "code",
   "execution_count": null,
   "metadata": {},
   "outputs": [],
   "source": [
    "print(len(liste_des_reponsesId))"
   ]
  },
  {
   "cell_type": "code",
   "execution_count": 2,
   "metadata": {},
   "outputs": [
    {
     "name": "stdout",
     "output_type": "stream",
     "text": [
      "{'_id': '1', 'PostTypeId': 1, 'AcceptedAnswerId': '879', 'question': 'Suppose I would like to calculate the inclination of a satellite from the __ecliptic__. Would it be possible to do this with an amateur telescope? How would I go about doing so?\\n\\n---\\n\\nNote: A good answer should tell what kind of telescope an amateur would need, what measurements they would need to make, then what calculations they would have to perform to get the inclination (or the \"instantaneous angular measurement from the ecliptic at the time of measurement\").'}\n",
      "{'_id': '2', 'PostTypeId': 1, 'AcceptedAnswerId': '45', 'question': 'How are exoplanetary atmosphere compositional spectra distinguished from those of the parent star(s), from the composition of the planetary surface or any other factor? Is it actually possible to determine the atmospheric composition precisely using this method?\\n\\nAre there any specific examples of such an analysis having been performed on an exoplanet?'}\n",
      "{'_id': '4', 'PostTypeId': 1, 'AcceptedAnswerId': '5', 'question': 'Sunspots, such as this one, appear dark:\\n\\n![sunspot](https://i.stack.imgur.com/VM9qym.jpg)\\n\\nWhy?'}\n",
      "{'_id': '7', 'PostTypeId': 1, 'AcceptedAnswerId': '8', 'question': \"I've heard that light can't escape from a [black hole](http://en.wikipedia.org/wiki/Black_hole). Can it? If not, why?\"}\n",
      "{'_id': '9', 'PostTypeId': 1, 'AcceptedAnswerId': '35', 'question': \"The equatorial coordinate system isn't too complicated. However, for people new to this, it seems rather intimidating at first.\\n\\nIs there an easy way to explain it?\"}\n",
      "{'_id': '14', 'PostTypeId': 1, 'AcceptedAnswerId': '21', 'question': 'In many movies and in the popular culture wormholes are often referenced, as well as \"faster than light travel\", which seems almost to be the same thing, is possible. Are astronomers seriously considering and researching this phenomenon? What could be the signature of wormholes? Would next generations telescopes as ELT able to detect such signatures?'}\n",
      "{'_id': '15', 'PostTypeId': 1, 'AcceptedAnswerId': '43', 'question': 'On Venus, there is really inhospitable weather, as well as within the gas giants in our solar system. Are there examples of even more extreme weather on planets found in other solar systems than ours?'}\n",
      "{'_id': '16', 'PostTypeId': 1, 'AcceptedAnswerId': '22', 'question': 'Why do we only ever see the same side of the moon?\\n\\nIf this is to do with gravity are there any variables which mean we might one day see more than we have before?'}\n",
      "{'_id': '24', 'PostTypeId': 1, 'AcceptedAnswerId': '40', 'question': \"Black holes have so much gravity that [even light can't escape from them](https://astronomy.stackexchange.com/questions/7/why-cant-light-escape-from-a-black-hole/8#8). If we can't see them, and the suck up all electromagnetic radiation, then how can we find them? \"}\n",
      "{'_id': '26', 'PostTypeId': 1, 'AcceptedAnswerId': '57', 'question': 'According to [this NASA overview](http://solarsystem.nasa.gov/planets/profile.cfm?Object=Venus&amp;Display=Facts&amp;System=Metric), the planet Venus is unique (amongst the major planets), Venus has a slow retrograde axial rotation, taking 243 Earth days to make one rotation (which is longer than its orbital revolution). \\n\\nWhat is the current accepted theory as to why (and how) Venus developed this anomalous slow retrograde axial rotation?'}\n"
     ]
    }
   ],
   "source": [
    "myquery = { \"PostTypeId\": 1 }\n",
    "questions = mycol.find(myquery)\n",
    "\n",
    "n = 0\n",
    "for q in questions : \n",
    "    print(q)\n",
    "    n+=1\n",
    "    if n==10 : break"
   ]
  },
  {
   "cell_type": "code",
   "execution_count": 3,
   "metadata": {},
   "outputs": [
    {
     "name": "stdout",
     "output_type": "stream",
     "text": [
      "{'_id': '879', 'PostTypeId': 2, 'response': 'Any telescope can be made to give you the information that you are looking for. The first thing that you will need to know is the location of the ecliptic which varies throughout the year. Or are you looking to find in relation to the the celestial equator?\\n\\n[https://en.wikipedia.org/wiki/Celestial\\\\_equator](https://en.wikipedia.org/wiki/Celestial_equator)\\n\\nEither way, you would start of the same by find the Declination (D) and Right Ascension (R.A) of the object in question. You do not need a telescope to find this, unless you are unable to see the object with the naked eye. If the telescope has a polar mount and is properly set up. You can read the R.A. and D off of the mount. \\n\\nOtherwise it will require some trigonometry and knowing where you are (at least your latitude)\\n\\nYou will need to determine the Altitude and Azimuth of the object. Which is really just the direction from North and the angle from horizontal that your telescope is pointing. You could do this with a compass and protractor or even an [astrolabe](https://en.wikipedia.org/wiki/Astrolab). Knowing this you can then convert to R.A and D with the following formulas:\\n\\n$$RA = \\\\\\\\arctan(\\\\\\\\frac{- sin(Az) \\\\\\\\times \\\\\\\\cos(Alt)}{\\\\\\\\cos(Lat) \\\\\\\\times \\\\\\\\sin(Alt) - \\\\\\\\sin(Lat) \\\\\\\\times \\\\\\\\cos(Az) \\\\\\\\times \\\\\\\\cos(Alt)})$$\\n\\n$$Dec = \\\\\\\\arcsin(\\\\\\\\sin(Lat) \\\\\\\\times \\\\\\\\sin(Alt) + \\\\\\\\cos(Lat) \\\\\\\\times \\\\\\\\cos(Alt) \\\\\\\\times \\\\\\\\cos(Az))$$\\n\\nYou are looking for the inclination to the ecliptic, so you are mostly concerned with the declination. The ecliptic changes in declination throughout the year from 0 at the equinox to +/- 23.5 at the solstice. So your inclination from the ecliptic would be the Declination of your object +/- the Declination of the ecliptic. '}\n"
     ]
    }
   ],
   "source": [
    "\n",
    "myquery = { \"PostTypeId\": 2 }\n",
    "questions = mycol.find(myquery)\n",
    "\n",
    "for rep in questions :\n",
    "    print(rep)\n",
    "    break\n"
   ]
  },
  {
   "cell_type": "code",
   "execution_count": 5,
   "metadata": {},
   "outputs": [
    {
     "name": "stdout",
     "output_type": "stream",
     "text": [
      "I've heard that light can't escape from a [black hole](http://en.wikipedia.org/wiki/Black_hole). Can it? If not, why?\n",
      "****************************************************************************************************\n",
      "la reponse est de id =  8\n",
      "****************************************************************************************************\n",
      "A black hole has an <a href=\"http://en.wikipedia.org/wiki/Event_horizon\" rel=\"nofollow noreferrer\">event horizon</a> which 'marks the point of no return'. So yes, light cannot escape from a black hole.\n",
      "\n",
      "Why? Well, think of a 'spacetime fabric'. It's the easiest way to understand the physics at work here, in my opinion.\n",
      "\n",
      "Usually, the fabric would look like this:\n",
      "\n",
      "<a href=\"https://i.stack.imgur.com/7HKzL.jpg\" rel=\"nofollow noreferrer\">![fabric](https://i.stack.imgur.com/7HKzL.jpg)</a>  \n",
      "<sub>(source: <a href=\"http://whyfiles.org/wp-content/uploads/2011/05/gravity_probespacetime.jpg\" rel=\"nofollow noreferrer\">whyfiles.org</a>)</sub> \n",
      "\n",
      "However, a black hole has so much gravity that one could say it 'rips' the spacetime fabric:\n",
      "\n",
      "<a href=\"https://i.stack.imgur.com/z4Pni.gif\" rel=\"nofollow noreferrer\">![black hole fabric](https://i.stack.imgur.com/z4Pni.gif)</a>  \n",
      "<sub>(source: <a href=\"https://static.ddmcdn.com/gif/black-hole.gif\" rel=\"nofollow noreferrer\">ddmcdn.com</a>)</sub> \n",
      "\n",
      "When the light hits this area of amazingly intense gravity, it simply cannot get out - the light travels 'along' the fabric, and since there is a rip in the fabric, one could say it simply goes away - it becomes part of the singularity.\n",
      "\n",
      "This is a simplification, of course, but it's enough to understand at least part of the physics behind this phenonenom.\n"
     ]
    }
   ],
   "source": [
    "quest = \"I've heard that light can't escape from\"  # a taper sur discord\n",
    "question = \"^\"+ quest\n",
    "\n",
    "myquery = { \"question\": { \"$regex\": question } }\n",
    "mydoc = mycol.find(myquery)\n",
    "\n",
    "for x in mydoc:\n",
    "    print(x['question'])\n",
    "    ansID = x['AcceptedAnswerId']\n",
    "    \n",
    "print(100*'*')\n",
    "print('la reponse est de id = ',ansID)\n",
    "print(100*'*')\n",
    "\n",
    "myquery = { \"_id\": ansID }\n",
    "mydoc = mycol.find(myquery)\n",
    "for x in mydoc:\n",
    "    reponse = x['response']\n",
    "    print(reponse)"
   ]
  },
  {
   "cell_type": "code",
   "execution_count": 8,
   "metadata": {},
   "outputs": [
    {
     "name": "stdout",
     "output_type": "stream",
     "text": [
      " ** liste des collections : ** \n",
      "astro2\n",
      "Feedbac_S\n",
      "datascience\n",
      "bioinfo\n",
      "Feedbac_I\n",
      " ** Feedbac score : ** \n"
     ]
    },
    {
     "name": "stderr",
     "output_type": "stream",
     "text": [
      "<ipython-input-8-e3c387578fb7>:10: DeprecationWarning: collection_names is deprecated. Use list_collection_names instead.\n",
      "  cols = mydb.collection_names()\n"
     ]
    }
   ],
   "source": [
    "# Création des deux collection ('feedbac_score' + 'feedbac_improvement')\n",
    "import pymongo\n",
    "client = pymongo.MongoClient(\"mongodb://localhost:27017/\")\n",
    "mydb = client[\"NougatBD2\"]\n",
    "\n",
    "mycolFD_score = mydb[\"Feedbac_S\"]\n",
    "mycolFD_Improvement = mydb[\"Feedbac_I\"]\n",
    "\n",
    "\n",
    "cols = mydb.collection_names()\n",
    "print(' ** liste des collections : ** ')\n",
    "for c in cols:\n",
    "    print(c)\n",
    "    pass\n",
    "\n",
    "print(' ** Feedbac score : ** ')\n",
    "collection = mydb['mycolFD_score'].find()\n",
    "\n",
    "for item in collection:\n",
    "    print(item)"
   ]
  },
  {
   "cell_type": "code",
   "execution_count": null,
   "metadata": {},
   "outputs": [],
   "source": []
  }
 ],
 "metadata": {
  "kernelspec": {
   "display_name": "Python 3",
   "language": "python",
   "name": "python3"
  },
  "language_info": {
   "codemirror_mode": {
    "name": "ipython",
    "version": 3
   },
   "file_extension": ".py",
   "mimetype": "text/x-python",
   "name": "python",
   "nbconvert_exporter": "python",
   "pygments_lexer": "ipython3",
   "version": "3.8.5"
  }
 },
 "nbformat": 4,
 "nbformat_minor": 4
}
