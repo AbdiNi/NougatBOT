{
 "cells": [
  {
   "cell_type": "code",
   "execution_count": null,
   "metadata": {},
   "outputs": [],
   "source": [
    "# extraction des données\n",
    "import xml.etree.ElementTree as ET\n",
    "import pymongo\n",
    "import html2markdown\n",
    "\n",
    "from lxml import etree\n",
    "from collections import defaultdict\n",
    "\n",
    "tree = ET.parse(\"Posts.xml\")\n",
    "root = tree.getroot()\n",
    "\n",
    "liste_des_reponsesId=[]\n",
    "client = pymongo.MongoClient(\"mongodb://localhost:27017/\")\n",
    "mydb = client[\"NougatBD2\"]\n",
    "mycol = mydb[\"astro2\"]\n",
    "\n",
    "\n",
    "import time\n",
    "start_time = time.time()\n",
    "\n",
    "for child in root:\n",
    "    type_id = child.attrib['PostTypeId']\n",
    "    \n",
    "    try:\n",
    "        rep_id = child.attrib['AcceptedAnswerId']\n",
    "    except:\n",
    "        rep_id = 0\n",
    "    \n",
    "    if (type_id=='1' and rep_id !=0) : \n",
    "        quest = child.attrib['Body']\n",
    "        question = html2markdown.convert(quest) \n",
    "        liste_des_reponsesId.append(rep_id)\n",
    "        astro_dict = [{'_id':child.attrib['Id'], 'PostTypeId':1, 'AcceptedAnswerId':rep_id, 'question':question}]\n",
    "        x = mycol.insert(astro_dict)\n",
    "\n",
    "for index in liste_des_reponsesId : \n",
    "    found = False\n",
    "    for child in root:\n",
    "        if index == child.attrib['Id'] :\n",
    "            rep = child.attrib['Body']\n",
    "            reponse = html2markdown.convert(rep)\n",
    "            astro_dict = [{'_id':index , 'PostTypeId':2,  'response':reponse}]\n",
    "            x = mycol.insert(astro_dict)\n",
    "            found = True\n",
    "        if found : break\n",
    "    \n",
    "end_time = time.time()\n",
    "print(end_time - start_time)\n"
   ]
  },
  {
   "cell_type": "code",
   "execution_count": 12,
   "metadata": {},
   "outputs": [
    {
     "name": "stdout",
     "output_type": "stream",
     "text": [
      "0\n"
     ]
    }
   ],
   "source": [
    "print(len(liste_des_reponsesId))"
   ]
  },
  {
   "cell_type": "code",
   "execution_count": 13,
   "metadata": {},
   "outputs": [
    {
     "name": "stdout",
     "output_type": "stream",
     "text": [
      "{'_id': '1', 'PostTypeId': 1, 'AcceptedAnswerId': '879', 'question': 'Suppose I would like to calculate the inclination of a satellite from the __ecliptic__. Would it be possible to do this with an amateur telescope? How would I go about doing so?\\n\\n---\\n\\nNote: A good answer should tell what kind of telescope an amateur would need, what measurements they would need to make, then what calculations they would have to perform to get the inclination (or the \"instantaneous angular measurement from the ecliptic at the time of measurement\").'}\n",
      "{'_id': '2', 'PostTypeId': 1, 'AcceptedAnswerId': '45', 'question': 'How are exoplanetary atmosphere compositional spectra distinguished from those of the parent star(s), from the composition of the planetary surface or any other factor? Is it actually possible to determine the atmospheric composition precisely using this method?\\n\\nAre there any specific examples of such an analysis having been performed on an exoplanet?'}\n",
      "{'_id': '4', 'PostTypeId': 1, 'AcceptedAnswerId': '5', 'question': 'Sunspots, such as this one, appear dark:\\n\\n![sunspot](https://i.stack.imgur.com/VM9qym.jpg)\\n\\nWhy?'}\n",
      "{'_id': '7', 'PostTypeId': 1, 'AcceptedAnswerId': '8', 'question': \"I've heard that light can't escape from a [black hole](http://en.wikipedia.org/wiki/Black_hole). Can it? If not, why?\"}\n",
      "{'_id': '9', 'PostTypeId': 1, 'AcceptedAnswerId': '35', 'question': \"The equatorial coordinate system isn't too complicated. However, for people new to this, it seems rather intimidating at first.\\n\\nIs there an easy way to explain it?\"}\n",
      "{'_id': '14', 'PostTypeId': 1, 'AcceptedAnswerId': '21', 'question': 'In many movies and in the popular culture wormholes are often referenced, as well as \"faster than light travel\", which seems almost to be the same thing, is possible. Are astronomers seriously considering and researching this phenomenon? What could be the signature of wormholes? Would next generations telescopes as ELT able to detect such signatures?'}\n",
      "{'_id': '15', 'PostTypeId': 1, 'AcceptedAnswerId': '43', 'question': 'On Venus, there is really inhospitable weather, as well as within the gas giants in our solar system. Are there examples of even more extreme weather on planets found in other solar systems than ours?'}\n",
      "{'_id': '16', 'PostTypeId': 1, 'AcceptedAnswerId': '22', 'question': 'Why do we only ever see the same side of the moon?\\n\\nIf this is to do with gravity are there any variables which mean we might one day see more than we have before?'}\n",
      "{'_id': '24', 'PostTypeId': 1, 'AcceptedAnswerId': '40', 'question': \"Black holes have so much gravity that [even light can't escape from them](https://astronomy.stackexchange.com/questions/7/why-cant-light-escape-from-a-black-hole/8#8). If we can't see them, and the suck up all electromagnetic radiation, then how can we find them? \"}\n",
      "{'_id': '26', 'PostTypeId': 1, 'AcceptedAnswerId': '57', 'question': 'According to [this NASA overview](http://solarsystem.nasa.gov/planets/profile.cfm?Object=Venus&amp;Display=Facts&amp;System=Metric), the planet Venus is unique (amongst the major planets), Venus has a slow retrograde axial rotation, taking 243 Earth days to make one rotation (which is longer than its orbital revolution). \\n\\nWhat is the current accepted theory as to why (and how) Venus developed this anomalous slow retrograde axial rotation?'}\n"
     ]
    }
   ],
   "source": [
    "myquery = { \"PostTypeId\": 1 }\n",
    "questions = mycol.find(myquery)\n",
    "\n",
    "n = 0\n",
    "for q in questions : \n",
    "    print(q)\n",
    "    n+=1\n",
    "    if n==10 : break"
   ]
  },
  {
   "cell_type": "code",
   "execution_count": 9,
   "metadata": {},
   "outputs": [
    {
     "name": "stdout",
     "output_type": "stream",
     "text": [
      "{'_id': '879', 'PostTypeId': 2, 'response': 'Any telescope can be made to give you the information that you are looking for. The first thing that you will need to know is the location of the ecliptic which varies throughout the year. Or are you looking to find in relation to the the celestial equator?\\n\\n[https://en.wikipedia.org/wiki/Celestial\\\\_equator](https://en.wikipedia.org/wiki/Celestial_equator)\\n\\nEither way, you would start of the same by find the Declination (D) and Right Ascension (R.A) of the object in question. You do not need a telescope to find this, unless you are unable to see the object with the naked eye. If the telescope has a polar mount and is properly set up. You can read the R.A. and D off of the mount. \\n\\nOtherwise it will require some trigonometry and knowing where you are (at least your latitude)\\n\\nYou will need to determine the Altitude and Azimuth of the object. Which is really just the direction from North and the angle from horizontal that your telescope is pointing. You could do this with a compass and protractor or even an [astrolabe](https://en.wikipedia.org/wiki/Astrolab). Knowing this you can then convert to R.A and D with the following formulas:\\n\\n$$RA = \\\\\\\\arctan(\\\\\\\\frac{- sin(Az) \\\\\\\\times \\\\\\\\cos(Alt)}{\\\\\\\\cos(Lat) \\\\\\\\times \\\\\\\\sin(Alt) - \\\\\\\\sin(Lat) \\\\\\\\times \\\\\\\\cos(Az) \\\\\\\\times \\\\\\\\cos(Alt)})$$\\n\\n$$Dec = \\\\\\\\arcsin(\\\\\\\\sin(Lat) \\\\\\\\times \\\\\\\\sin(Alt) + \\\\\\\\cos(Lat) \\\\\\\\times \\\\\\\\cos(Alt) \\\\\\\\times \\\\\\\\cos(Az))$$\\n\\nYou are looking for the inclination to the ecliptic, so you are mostly concerned with the declination. The ecliptic changes in declination throughout the year from 0 at the equinox to +/- 23.5 at the solstice. So your inclination from the ecliptic would be the Declination of your object +/- the Declination of the ecliptic. '}\n"
     ]
    }
   ],
   "source": [
    "myquery = { \"PostTypeId\": 2 }\n",
    "questions = mycol.find(myquery)\n",
    "\n",
    "for rep in questions : \n",
    "    print(rep)\n",
    "    break\n"
   ]
  },
  {
   "cell_type": "code",
   "execution_count": 10,
   "metadata": {},
   "outputs": [
    {
     "name": "stdout",
     "output_type": "stream",
     "text": [
      "I've heard that light can't escape from a [black hole](http://en.wikipedia.org/wiki/Black_hole). Can it? If not, why?\n",
      "****************************************************************************************************\n",
      "la reponse est de id =  8\n",
      "****************************************************************************************************\n",
      "A black hole has an <a href=\"http://en.wikipedia.org/wiki/Event_horizon\" rel=\"nofollow noreferrer\">event horizon</a> which 'marks the point of no return'. So yes, light cannot escape from a black hole.\n",
      "\n",
      "Why? Well, think of a 'spacetime fabric'. It's the easiest way to understand the physics at work here, in my opinion.\n",
      "\n",
      "Usually, the fabric would look like this:\n",
      "\n",
      "<a href=\"https://i.stack.imgur.com/7HKzL.jpg\" rel=\"nofollow noreferrer\">![fabric](https://i.stack.imgur.com/7HKzL.jpg)</a>  \n",
      "<sub>(source: <a href=\"http://whyfiles.org/wp-content/uploads/2011/05/gravity_probespacetime.jpg\" rel=\"nofollow noreferrer\">whyfiles.org</a>)</sub> \n",
      "\n",
      "However, a black hole has so much gravity that one could say it 'rips' the spacetime fabric:\n",
      "\n",
      "<a href=\"https://i.stack.imgur.com/z4Pni.gif\" rel=\"nofollow noreferrer\">![black hole fabric](https://i.stack.imgur.com/z4Pni.gif)</a>  \n",
      "<sub>(source: <a href=\"https://static.ddmcdn.com/gif/black-hole.gif\" rel=\"nofollow noreferrer\">ddmcdn.com</a>)</sub> \n",
      "\n",
      "When the light hits this area of amazingly intense gravity, it simply cannot get out - the light travels 'along' the fabric, and since there is a rip in the fabric, one could say it simply goes away - it becomes part of the singularity.\n",
      "\n",
      "This is a simplification, of course, but it's enough to understand at least part of the physics behind this phenonenom.\n"
     ]
    }
   ],
   "source": [
    "quest = \"I've heard that light can't escape from\"  # a taper sur discord\n",
    "question = \"^\"+ quest\n",
    "\n",
    "myquery = { \"question\": { \"$regex\": question } }\n",
    "mydoc = mycol.find(myquery)\n",
    "\n",
    "for x in mydoc:\n",
    "    print(x['question'])\n",
    "    ansID = x['AcceptedAnswerId']\n",
    "    \n",
    "print(100*'*')\n",
    "print('la reponse est de id = ',ansID)\n",
    "print(100*'*')\n",
    "\n",
    "myquery = { \"_id\": ansID }\n",
    "mydoc = mycol.find(myquery)\n",
    "for x in mydoc:\n",
    "    reponse = x['response']\n",
    "    print(reponse)"
   ]
  },
  {
   "cell_type": "code",
   "execution_count": null,
   "metadata": {},
   "outputs": [],
   "source": []
  },
  {
   "cell_type": "code",
   "execution_count": null,
   "metadata": {},
   "outputs": [],
   "source": []
  },
  {
   "cell_type": "code",
   "execution_count": 72,
   "metadata": {},
   "outputs": [
    {
     "name": "stdout",
     "output_type": "stream",
     "text": [
      "['calculate', 'inclination', 'satellite']\n"
     ]
    },
    {
     "data": {
      "text/plain": [
       "'Suppose I would like to calculate the inclination of a satellite from the __ecliptic__. Would it be possible to do this with an amateur telescope? How would I go about doing so?\\n\\n---\\n\\nNote: A good answer should tell what kind of telescope an amateur would need, what measurements they would need to make, then what calculations they would have to perform to get the inclination (or the \"instantaneous angular measurement from the ecliptic at the time of measurement\").'"
      ]
     },
     "execution_count": 72,
     "metadata": {},
     "output_type": "execute_result"
    }
   ],
   "source": [
    "import nltk\n",
    "from nltk.stem import WordNetLemmatizer\n",
    "from nltk import word_tokenize\n",
    "from nltk.corpus import stopwords\n",
    "\n",
    "def tokenize(corpus):\n",
    "    #Tokenization\n",
    "    words=[]\n",
    "    tokens = nltk.word_tokenize(corpus)\n",
    "    words.append(tokens)\n",
    "    flat_words = [item for sublist in words for item in sublist]\n",
    "    stopW = stopwords.words('english')\n",
    "    stopW.extend(set(string.punctuation))\n",
    "    tokens_without_stopwords = [x for x in flat_words if x not in stopW]\n",
    "    return tokens_without_stopwords\n",
    "\n",
    "myquery = { \"PostTypeId\": 1 }\n",
    "questions = mycol.find(myquery)\n",
    "\n",
    "liste_questions=[]\n",
    "for q in questions : \n",
    "    liste_questions.append(q['question'])\n",
    "    \n",
    "def check(liste, words): \n",
    "    res = [] \n",
    "    for substring in liste: \n",
    "        k = [ w.lower() for w in words if w.lower() in substring.lower() ] \n",
    "        if (len(k) == len(words) ): \n",
    "            res.append(substring)           \n",
    "    return res[0] \n",
    "    \n",
    "words = tokenize(' to calculate the inclination of a satellite')\n",
    "print(words)\n",
    "check(liste_questions, words)\n",
    "\n"
   ]
  },
  {
   "cell_type": "code",
   "execution_count": null,
   "metadata": {},
   "outputs": [],
   "source": []
  },
  {
   "cell_type": "code",
   "execution_count": null,
   "metadata": {},
   "outputs": [],
   "source": []
  }
 ],
 "metadata": {
  "kernelspec": {
   "display_name": "Python 3",
   "language": "python",
   "name": "python3"
  },
  "language_info": {
   "codemirror_mode": {
    "name": "ipython",
    "version": 3
   },
   "file_extension": ".py",
   "mimetype": "text/x-python",
   "name": "python",
   "nbconvert_exporter": "python",
   "pygments_lexer": "ipython3",
   "version": "3.8.3"
  }
 },
 "nbformat": 4,
 "nbformat_minor": 4
}
